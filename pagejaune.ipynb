{
 "cells": [
  {
   "cell_type": "code",
   "execution_count": 81,
   "id": "92548d95",
   "metadata": {},
   "outputs": [],
   "source": [
    "import pandas as pd\n",
    "from selenium import webdriver\n",
    "from selenium.webdriver.common.by import By\n",
    "from selenium.webdriver.common.keys import Keys\n",
    "from time import sleep\n",
    "from bs4 import BeautifulSoup as bs\n",
    "import re"
   ]
  },
  {
   "cell_type": "code",
   "execution_count": 89,
   "id": "2c153f7b",
   "metadata": {},
   "outputs": [],
   "source": [
    "def take_infos(driver,noms,localis,numeros,gpss):\n",
    "    phars=driver.find_elements(By.CLASS_NAME,'classic-view-grids-content-area')\n",
    "    for infos in phars:\n",
    "        try:\n",
    "            soup=bs(infos.get_attribute('innerHTML'))\n",
    "\n",
    "            nom=soup.find('h4',class_='lp-h4').text\n",
    "            nom=re.sub(r'\\s{1,}', ' ', nom)\n",
    "            \n",
    "            local=soup.find('div',class_='show').text\n",
    "            local=re.sub(r'\\s{1,}', ' ', local)\n",
    "           \n",
    "            numero=soup.find('a',class_='grind-number')\n",
    "            if numero:\n",
    "                numeros.append(numero.text)\n",
    "            else:\n",
    "                numeros.append('+00')\n",
    "\n",
    "            gps=soup.find('a',class_='show-loop-map-popup')\n",
    "            if gps:\n",
    "                lat=gps.get('data-lat')\n",
    "                lng=gps.get('data-lng')\n",
    "                gpss.append(lat+\" :: \"+lng)\n",
    "            else:\n",
    "                gpss.append(\" :: \")\n",
    "            \n",
    "            localis.append(local)\n",
    "            noms.append(nom)\n",
    "        except:\n",
    "            continue\n",
    "    "
   ]
  },
  {
   "cell_type": "code",
   "execution_count": 90,
   "id": "7fec6460",
   "metadata": {},
   "outputs": [],
   "source": [
    "def pharmacie():\n",
    "    driver = webdriver.Chrome()\n",
    "    driver.get('https://pagesjaunes.ci/')\n",
    "    sleep(5)\n",
    "    driver.find_element(By.ID,'select').send_keys('Pharmacie')\n",
    "    driver.find_element(By.CLASS_NAME,'lp-search-btn').submit()\n",
    "    sleep(5)\n",
    "    numeros=[]\n",
    "    noms=[]\n",
    "    localis=[]\n",
    "    gpss=[]\n",
    "    take_infos(driver,noms,localis,numeros,gpss)\n",
    "    driver.find_element(By.CSS_SELECTOR,'#lp-pages-in-cats > div > ul > li:nth-child(1)').click()\n",
    "    sleep(5)\n",
    "    for i in range(2,7):\n",
    "        sleep(5)\n",
    "        take_infos(driver,noms,localis,numeros,gpss)\n",
    "        \n",
    "    for i in range(7,13):\n",
    "        i+=1\n",
    "        driver.find_element(By.CSS_SELECTOR,f'#content-grids > div.lp-pagination.pagination.lp-filter-pagination-ajx > ul > li:nth-child({i})').click()\n",
    "        sleep(5)\n",
    "        take_infos(driver,noms,localis,numeros,gpss)\n",
    "    \n",
    "    for i in range(80):\n",
    "        driver.find_element(By.CSS_SELECTOR,f'#content-grids > div.lp-pagination.pagination.lp-filter-pagination-ajx > ul > li:nth-child(13)').click()\n",
    "        sleep(5)\n",
    "        take_infos(driver,noms,localis,numeros,gpss)\n",
    "        \n",
    "    data = {'numoros': numeros, 'nom': noms,'localisation': localis,'cordonnées gps': gpss}\n",
    "    dt = pd.DataFrame(data)\n",
    "    dt.to_excel('pharmacie.xlsx')"
   ]
  },
  {
   "cell_type": "code",
   "execution_count": 91,
   "id": "301559b5",
   "metadata": {},
   "outputs": [],
   "source": [
    "pharmacie()"
   ]
  }
 ],
 "metadata": {
  "kernelspec": {
   "display_name": "Python 3 (ipykernel)",
   "language": "python",
   "name": "python3"
  },
  "language_info": {
   "codemirror_mode": {
    "name": "ipython",
    "version": 3
   },
   "file_extension": ".py",
   "mimetype": "text/x-python",
   "name": "python",
   "nbconvert_exporter": "python",
   "pygments_lexer": "ipython3",
   "version": "3.11.5"
  }
 },
 "nbformat": 4,
 "nbformat_minor": 5
}
